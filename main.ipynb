{
 "cells": [
  {
   "cell_type": "code",
   "execution_count": 1,
   "id": "672bc114",
   "metadata": {},
   "outputs": [],
   "source": [
    "import pandas as pd\n",
    "import seaborn as sns\n",
    "\n",
    "# Load datasets\n",
    "crm_data = pd.read_csv('crm_data.csv')\n",
    "web_tracking = pd.read_csv('web_tracking.csv')"
   ]
  },
  {
   "cell_type": "code",
   "execution_count": 2,
   "id": "16325afc",
   "metadata": {},
   "outputs": [
    {
     "data": {
      "text/html": [
       "<div>\n",
       "<style scoped>\n",
       "    .dataframe tbody tr th:only-of-type {\n",
       "        vertical-align: middle;\n",
       "    }\n",
       "\n",
       "    .dataframe tbody tr th {\n",
       "        vertical-align: top;\n",
       "    }\n",
       "\n",
       "    .dataframe thead th {\n",
       "        text-align: right;\n",
       "    }\n",
       "</style>\n",
       "<table border=\"1\" class=\"dataframe\">\n",
       "  <thead>\n",
       "    <tr style=\"text-align: right;\">\n",
       "      <th></th>\n",
       "      <th>user_id</th>\n",
       "      <th>lead_status</th>\n",
       "      <th>company</th>\n",
       "      <th>sign_up_date</th>\n",
       "      <th>industry</th>\n",
       "      <th>country</th>\n",
       "    </tr>\n",
       "  </thead>\n",
       "  <tbody>\n",
       "    <tr>\n",
       "      <th>0</th>\n",
       "      <td>137</td>\n",
       "      <td>Converted</td>\n",
       "      <td>Company_0</td>\n",
       "      <td>09-03-2024</td>\n",
       "      <td>Healthcare</td>\n",
       "      <td>US</td>\n",
       "    </tr>\n",
       "    <tr>\n",
       "      <th>1</th>\n",
       "      <td>163</td>\n",
       "      <td>Converted</td>\n",
       "      <td>Company_1</td>\n",
       "      <td>01-03-2024</td>\n",
       "      <td>Finance</td>\n",
       "      <td>UK</td>\n",
       "    </tr>\n",
       "    <tr>\n",
       "      <th>2</th>\n",
       "      <td>103</td>\n",
       "      <td>Prospect</td>\n",
       "      <td>Company_2</td>\n",
       "      <td>02-03-2024</td>\n",
       "      <td>Healthcare</td>\n",
       "      <td>France</td>\n",
       "    </tr>\n",
       "    <tr>\n",
       "      <th>3</th>\n",
       "      <td>163</td>\n",
       "      <td>Lost</td>\n",
       "      <td>Company_3</td>\n",
       "      <td>01-03-2024</td>\n",
       "      <td>SaaS</td>\n",
       "      <td>US</td>\n",
       "    </tr>\n",
       "    <tr>\n",
       "      <th>4</th>\n",
       "      <td>171</td>\n",
       "      <td>Lost</td>\n",
       "      <td>Company_4</td>\n",
       "      <td>07-03-2024</td>\n",
       "      <td>Healthcare</td>\n",
       "      <td>Germany</td>\n",
       "    </tr>\n",
       "  </tbody>\n",
       "</table>\n",
       "</div>"
      ],
      "text/plain": [
       "   user_id lead_status    company sign_up_date    industry  country\n",
       "0      137   Converted  Company_0   09-03-2024  Healthcare       US\n",
       "1      163   Converted  Company_1   01-03-2024     Finance       UK\n",
       "2      103    Prospect  Company_2   02-03-2024  Healthcare   France\n",
       "3      163        Lost  Company_3   01-03-2024        SaaS       US\n",
       "4      171        Lost  Company_4   07-03-2024  Healthcare  Germany"
      ]
     },
     "execution_count": 2,
     "metadata": {},
     "output_type": "execute_result"
    }
   ],
   "source": [
    "crm_data.head()"
   ]
  },
  {
   "cell_type": "code",
   "execution_count": 3,
   "id": "86a81b09",
   "metadata": {},
   "outputs": [
    {
     "data": {
      "text/html": [
       "<div>\n",
       "<style scoped>\n",
       "    .dataframe tbody tr th:only-of-type {\n",
       "        vertical-align: middle;\n",
       "    }\n",
       "\n",
       "    .dataframe tbody tr th {\n",
       "        vertical-align: top;\n",
       "    }\n",
       "\n",
       "    .dataframe thead th {\n",
       "        text-align: right;\n",
       "    }\n",
       "</style>\n",
       "<table border=\"1\" class=\"dataframe\">\n",
       "  <thead>\n",
       "    <tr style=\"text-align: right;\">\n",
       "      <th></th>\n",
       "      <th>user_id</th>\n",
       "      <th>session_id</th>\n",
       "      <th>timestamp</th>\n",
       "      <th>page</th>\n",
       "      <th>time_spent_sec</th>\n",
       "      <th>utm_source</th>\n",
       "      <th>utm_medium</th>\n",
       "      <th>device_type</th>\n",
       "      <th>Unnamed: 8</th>\n",
       "    </tr>\n",
       "  </thead>\n",
       "  <tbody>\n",
       "    <tr>\n",
       "      <th>0</th>\n",
       "      <td>151</td>\n",
       "      <td>s000</td>\n",
       "      <td>07-03-2024 12:55</td>\n",
       "      <td>/pricing</td>\n",
       "      <td>54</td>\n",
       "      <td>newsletter</td>\n",
       "      <td>referral</td>\n",
       "      <td>mobile</td>\n",
       "      <td>NaN</td>\n",
       "    </tr>\n",
       "    <tr>\n",
       "      <th>1</th>\n",
       "      <td>192</td>\n",
       "      <td>s001</td>\n",
       "      <td>05-03-2024 14:21</td>\n",
       "      <td>/landing</td>\n",
       "      <td>71</td>\n",
       "      <td>linkedin</td>\n",
       "      <td>email</td>\n",
       "      <td>desktop</td>\n",
       "      <td>NaN</td>\n",
       "    </tr>\n",
       "    <tr>\n",
       "      <th>2</th>\n",
       "      <td>114</td>\n",
       "      <td>s002</td>\n",
       "      <td>01-03-2024 14:25</td>\n",
       "      <td>/contact</td>\n",
       "      <td>143</td>\n",
       "      <td>facebook</td>\n",
       "      <td>cpc</td>\n",
       "      <td>desktop</td>\n",
       "      <td>NaN</td>\n",
       "    </tr>\n",
       "    <tr>\n",
       "      <th>3</th>\n",
       "      <td>171</td>\n",
       "      <td>s003</td>\n",
       "      <td>06-03-2024 16:56</td>\n",
       "      <td>/contact</td>\n",
       "      <td>293</td>\n",
       "      <td>newsletter</td>\n",
       "      <td>email</td>\n",
       "      <td>desktop</td>\n",
       "      <td>NaN</td>\n",
       "    </tr>\n",
       "    <tr>\n",
       "      <th>4</th>\n",
       "      <td>160</td>\n",
       "      <td>s004</td>\n",
       "      <td>01-03-2024 21:41</td>\n",
       "      <td>/contact</td>\n",
       "      <td>37</td>\n",
       "      <td>linkedin</td>\n",
       "      <td>organic</td>\n",
       "      <td>tablet</td>\n",
       "      <td>NaN</td>\n",
       "    </tr>\n",
       "  </tbody>\n",
       "</table>\n",
       "</div>"
      ],
      "text/plain": [
       "   user_id session_id         timestamp      page  time_spent_sec  utm_source  \\\n",
       "0      151       s000  07-03-2024 12:55  /pricing              54  newsletter   \n",
       "1      192       s001  05-03-2024 14:21  /landing              71    linkedin   \n",
       "2      114       s002  01-03-2024 14:25  /contact             143    facebook   \n",
       "3      171       s003  06-03-2024 16:56  /contact             293  newsletter   \n",
       "4      160       s004  01-03-2024 21:41  /contact              37    linkedin   \n",
       "\n",
       "  utm_medium device_type  Unnamed: 8  \n",
       "0   referral      mobile         NaN  \n",
       "1      email     desktop         NaN  \n",
       "2        cpc     desktop         NaN  \n",
       "3      email     desktop         NaN  \n",
       "4    organic      tablet         NaN  "
      ]
     },
     "execution_count": 3,
     "metadata": {},
     "output_type": "execute_result"
    }
   ],
   "source": [
    "web_tracking.head()"
   ]
  },
  {
   "cell_type": "code",
   "execution_count": 4,
   "id": "71fcf3a1",
   "metadata": {},
   "outputs": [
    {
     "name": "stdout",
     "output_type": "stream",
     "text": [
      "<class 'pandas.core.frame.DataFrame'>\n",
      "RangeIndex: 60 entries, 0 to 59\n",
      "Data columns (total 6 columns):\n",
      " #   Column        Non-Null Count  Dtype \n",
      "---  ------        --------------  ----- \n",
      " 0   user_id       60 non-null     int64 \n",
      " 1   lead_status   60 non-null     object\n",
      " 2   company       60 non-null     object\n",
      " 3   sign_up_date  60 non-null     object\n",
      " 4   industry      60 non-null     object\n",
      " 5   country       60 non-null     object\n",
      "dtypes: int64(1), object(5)\n",
      "memory usage: 2.9+ KB\n"
     ]
    }
   ],
   "source": [
    "crm_data.info()"
   ]
  },
  {
   "cell_type": "code",
   "execution_count": 5,
   "id": "ec642499",
   "metadata": {},
   "outputs": [
    {
     "name": "stdout",
     "output_type": "stream",
     "text": [
      "<class 'pandas.core.frame.DataFrame'>\n",
      "RangeIndex: 100 entries, 0 to 99\n",
      "Data columns (total 9 columns):\n",
      " #   Column          Non-Null Count  Dtype  \n",
      "---  ------          --------------  -----  \n",
      " 0   user_id         100 non-null    int64  \n",
      " 1   session_id      100 non-null    object \n",
      " 2   timestamp       100 non-null    object \n",
      " 3   page            100 non-null    object \n",
      " 4   time_spent_sec  100 non-null    int64  \n",
      " 5   utm_source      100 non-null    object \n",
      " 6   utm_medium      100 non-null    object \n",
      " 7   device_type     100 non-null    object \n",
      " 8   Unnamed: 8      0 non-null      float64\n",
      "dtypes: float64(1), int64(2), object(6)\n",
      "memory usage: 7.2+ KB\n"
     ]
    }
   ],
   "source": [
    "web_tracking.info()"
   ]
  },
  {
   "cell_type": "code",
   "execution_count": 6,
   "id": "a6b09f61",
   "metadata": {},
   "outputs": [],
   "source": [
    "# Convert timestamp to datetime\n",
    "web_tracking['timestamp'] = pd.to_datetime(web_tracking['timestamp'])\n"
   ]
  },
  {
   "cell_type": "code",
   "execution_count": 7,
   "id": "a210c184",
   "metadata": {},
   "outputs": [
    {
     "name": "stdout",
     "output_type": "stream",
     "text": [
      "<class 'pandas.core.frame.DataFrame'>\n",
      "RangeIndex: 100 entries, 0 to 99\n",
      "Data columns (total 9 columns):\n",
      " #   Column          Non-Null Count  Dtype         \n",
      "---  ------          --------------  -----         \n",
      " 0   user_id         100 non-null    int64         \n",
      " 1   session_id      100 non-null    object        \n",
      " 2   timestamp       100 non-null    datetime64[ns]\n",
      " 3   page            100 non-null    object        \n",
      " 4   time_spent_sec  100 non-null    int64         \n",
      " 5   utm_source      100 non-null    object        \n",
      " 6   utm_medium      100 non-null    object        \n",
      " 7   device_type     100 non-null    object        \n",
      " 8   Unnamed: 8      0 non-null      float64       \n",
      "dtypes: datetime64[ns](1), float64(1), int64(2), object(5)\n",
      "memory usage: 7.2+ KB\n"
     ]
    }
   ],
   "source": [
    "web_tracking.info()"
   ]
  },
  {
   "cell_type": "code",
   "execution_count": 8,
   "id": "79409523",
   "metadata": {},
   "outputs": [
    {
     "name": "stdout",
     "output_type": "stream",
     "text": [
      "<class 'pandas.core.frame.DataFrame'>\n",
      "RangeIndex: 100 entries, 0 to 99\n",
      "Data columns (total 9 columns):\n",
      " #   Column          Non-Null Count  Dtype         \n",
      "---  ------          --------------  -----         \n",
      " 0   user_id         100 non-null    int64         \n",
      " 1   session_id      100 non-null    object        \n",
      " 2   timestamp       100 non-null    datetime64[ns]\n",
      " 3   page            100 non-null    object        \n",
      " 4   time_spent_sec  100 non-null    int64         \n",
      " 5   utm_source      100 non-null    object        \n",
      " 6   utm_medium      100 non-null    object        \n",
      " 7   device_type     100 non-null    object        \n",
      " 8   Unnamed: 8      0 non-null      float64       \n",
      "dtypes: datetime64[ns](1), float64(1), int64(2), object(5)\n",
      "memory usage: 7.2+ KB\n"
     ]
    }
   ],
   "source": [
    "web_tracking.info()"
   ]
  },
  {
   "cell_type": "markdown",
   "id": "3b6c301e",
   "metadata": {},
   "source": [
    "#### Take a consistent naming convention for use case\n",
    "\n",
    "#### Rename some columns according to snake_case or camelCase\n"
   ]
  },
  {
   "cell_type": "markdown",
   "id": "30f0fb73",
   "metadata": {},
   "source": [
    "### To check for duplicate values as this will be our joining Column"
   ]
  },
  {
   "cell_type": "code",
   "execution_count": 11,
   "id": "a015f1f0",
   "metadata": {},
   "outputs": [
    {
     "data": {
      "text/plain": [
       "np.int64(60)"
      ]
     },
     "execution_count": 11,
     "metadata": {},
     "output_type": "execute_result"
    }
   ],
   "source": [
    "crm_data['user_id'].value_counts().sum()"
   ]
  },
  {
   "cell_type": "code",
   "execution_count": 12,
   "id": "e868b504",
   "metadata": {},
   "outputs": [
    {
     "name": "stdout",
     "output_type": "stream",
     "text": [
      "Duplicate IDs:\n",
      "Index([161, 103, 163, 102, 121, 120, 171, 150, 187, 146], dtype='int64', name='user_id')\n"
     ]
    }
   ],
   "source": [
    "duplicate_ids = crm_data['user_id'].value_counts()[crm_data['user_id'].value_counts() > 1].index\n",
    "\n",
    "print(\"Duplicate IDs:\")\n",
    "print(duplicate_ids)\n"
   ]
  },
  {
   "cell_type": "code",
   "execution_count": 13,
   "id": "497e309a",
   "metadata": {},
   "outputs": [
    {
     "name": "stdout",
     "output_type": "stream",
     "text": [
      "Duplicate IDs:\n",
      "Index([161, 159, 101, 120, 152, 103, 114, 123, 199, 102, 171, 174, 187, 163,\n",
      "       188, 191, 121, 179, 153, 177, 143, 150, 117, 113, 189, 186, 146, 192],\n",
      "      dtype='int64', name='user_id')\n"
     ]
    }
   ],
   "source": [
    "duplicate_ids_web_tracking = web_tracking['user_id'].value_counts()[web_tracking['user_id'].value_counts() > 1].index\n",
    "\n",
    "print(\"Duplicate IDs:\")\n",
    "print(duplicate_ids_web_tracking)\n"
   ]
  },
  {
   "cell_type": "markdown",
   "id": "d569a473",
   "metadata": {},
   "source": [
    "## Changing all the CATEGORICAL VALUES to LOWER CASE() "
   ]
  },
  {
   "cell_type": "code",
   "execution_count": 14,
   "id": "20649e8c",
   "metadata": {},
   "outputs": [],
   "source": [
    "# Define a list of columns to trim and lower\n",
    "columns_to_trim = ['company', 'country', 'industry', 'lead_status']\n",
    "\n",
    "# Trim and lower the columns\n",
    "crm_data[columns_to_trim] = crm_data[columns_to_trim].apply(lambda x: x.str.strip().str.lower())"
   ]
  },
  {
   "cell_type": "code",
   "execution_count": 15,
   "id": "654bdd44",
   "metadata": {},
   "outputs": [
    {
     "data": {
      "text/html": [
       "<div>\n",
       "<style scoped>\n",
       "    .dataframe tbody tr th:only-of-type {\n",
       "        vertical-align: middle;\n",
       "    }\n",
       "\n",
       "    .dataframe tbody tr th {\n",
       "        vertical-align: top;\n",
       "    }\n",
       "\n",
       "    .dataframe thead th {\n",
       "        text-align: right;\n",
       "    }\n",
       "</style>\n",
       "<table border=\"1\" class=\"dataframe\">\n",
       "  <thead>\n",
       "    <tr style=\"text-align: right;\">\n",
       "      <th></th>\n",
       "      <th>user_id</th>\n",
       "      <th>lead_status</th>\n",
       "      <th>company</th>\n",
       "      <th>sign_up_date</th>\n",
       "      <th>industry</th>\n",
       "      <th>country</th>\n",
       "    </tr>\n",
       "  </thead>\n",
       "  <tbody>\n",
       "    <tr>\n",
       "      <th>0</th>\n",
       "      <td>137</td>\n",
       "      <td>converted</td>\n",
       "      <td>company_0</td>\n",
       "      <td>09-03-2024</td>\n",
       "      <td>healthcare</td>\n",
       "      <td>us</td>\n",
       "    </tr>\n",
       "    <tr>\n",
       "      <th>1</th>\n",
       "      <td>163</td>\n",
       "      <td>converted</td>\n",
       "      <td>company_1</td>\n",
       "      <td>01-03-2024</td>\n",
       "      <td>finance</td>\n",
       "      <td>uk</td>\n",
       "    </tr>\n",
       "    <tr>\n",
       "      <th>2</th>\n",
       "      <td>103</td>\n",
       "      <td>prospect</td>\n",
       "      <td>company_2</td>\n",
       "      <td>02-03-2024</td>\n",
       "      <td>healthcare</td>\n",
       "      <td>france</td>\n",
       "    </tr>\n",
       "    <tr>\n",
       "      <th>3</th>\n",
       "      <td>163</td>\n",
       "      <td>lost</td>\n",
       "      <td>company_3</td>\n",
       "      <td>01-03-2024</td>\n",
       "      <td>saas</td>\n",
       "      <td>us</td>\n",
       "    </tr>\n",
       "    <tr>\n",
       "      <th>4</th>\n",
       "      <td>171</td>\n",
       "      <td>lost</td>\n",
       "      <td>company_4</td>\n",
       "      <td>07-03-2024</td>\n",
       "      <td>healthcare</td>\n",
       "      <td>germany</td>\n",
       "    </tr>\n",
       "  </tbody>\n",
       "</table>\n",
       "</div>"
      ],
      "text/plain": [
       "   user_id lead_status    company sign_up_date    industry  country\n",
       "0      137   converted  company_0   09-03-2024  healthcare       us\n",
       "1      163   converted  company_1   01-03-2024     finance       uk\n",
       "2      103    prospect  company_2   02-03-2024  healthcare   france\n",
       "3      163        lost  company_3   01-03-2024        saas       us\n",
       "4      171        lost  company_4   07-03-2024  healthcare  germany"
      ]
     },
     "execution_count": 15,
     "metadata": {},
     "output_type": "execute_result"
    }
   ],
   "source": [
    "crm_data.head()"
   ]
  },
  {
   "cell_type": "code",
   "execution_count": 61,
   "id": "45adcf4b",
   "metadata": {},
   "outputs": [
    {
     "data": {
      "text/html": [
       "<div>\n",
       "<style scoped>\n",
       "    .dataframe tbody tr th:only-of-type {\n",
       "        vertical-align: middle;\n",
       "    }\n",
       "\n",
       "    .dataframe tbody tr th {\n",
       "        vertical-align: top;\n",
       "    }\n",
       "\n",
       "    .dataframe thead th {\n",
       "        text-align: right;\n",
       "    }\n",
       "</style>\n",
       "<table border=\"1\" class=\"dataframe\">\n",
       "  <thead>\n",
       "    <tr style=\"text-align: right;\">\n",
       "      <th></th>\n",
       "      <th>user_id</th>\n",
       "      <th>session_id</th>\n",
       "      <th>timestamp</th>\n",
       "      <th>page</th>\n",
       "      <th>time_spent_sec</th>\n",
       "      <th>utm_source</th>\n",
       "      <th>utm_medium</th>\n",
       "      <th>device_type</th>\n",
       "    </tr>\n",
       "  </thead>\n",
       "  <tbody>\n",
       "    <tr>\n",
       "      <th>0</th>\n",
       "      <td>151</td>\n",
       "      <td>s000</td>\n",
       "      <td>2024-03-07 12:55:00</td>\n",
       "      <td>/pricing</td>\n",
       "      <td>54</td>\n",
       "      <td>newsletter</td>\n",
       "      <td>referral</td>\n",
       "      <td>mobile</td>\n",
       "    </tr>\n",
       "    <tr>\n",
       "      <th>1</th>\n",
       "      <td>192</td>\n",
       "      <td>s001</td>\n",
       "      <td>2024-03-05 14:21:00</td>\n",
       "      <td>/landing</td>\n",
       "      <td>71</td>\n",
       "      <td>linkedin</td>\n",
       "      <td>email</td>\n",
       "      <td>desktop</td>\n",
       "    </tr>\n",
       "    <tr>\n",
       "      <th>2</th>\n",
       "      <td>114</td>\n",
       "      <td>s002</td>\n",
       "      <td>2024-03-01 14:25:00</td>\n",
       "      <td>/contact</td>\n",
       "      <td>143</td>\n",
       "      <td>facebook</td>\n",
       "      <td>cpc</td>\n",
       "      <td>desktop</td>\n",
       "    </tr>\n",
       "    <tr>\n",
       "      <th>3</th>\n",
       "      <td>171</td>\n",
       "      <td>s003</td>\n",
       "      <td>2024-03-06 16:56:00</td>\n",
       "      <td>/contact</td>\n",
       "      <td>293</td>\n",
       "      <td>newsletter</td>\n",
       "      <td>email</td>\n",
       "      <td>desktop</td>\n",
       "    </tr>\n",
       "    <tr>\n",
       "      <th>4</th>\n",
       "      <td>160</td>\n",
       "      <td>s004</td>\n",
       "      <td>2024-03-01 21:41:00</td>\n",
       "      <td>/contact</td>\n",
       "      <td>37</td>\n",
       "      <td>linkedin</td>\n",
       "      <td>organic</td>\n",
       "      <td>tablet</td>\n",
       "    </tr>\n",
       "    <tr>\n",
       "      <th>...</th>\n",
       "      <td>...</td>\n",
       "      <td>...</td>\n",
       "      <td>...</td>\n",
       "      <td>...</td>\n",
       "      <td>...</td>\n",
       "      <td>...</td>\n",
       "      <td>...</td>\n",
       "      <td>...</td>\n",
       "    </tr>\n",
       "    <tr>\n",
       "      <th>95</th>\n",
       "      <td>184</td>\n",
       "      <td>s095</td>\n",
       "      <td>2024-03-06 03:40:00</td>\n",
       "      <td>/features</td>\n",
       "      <td>170</td>\n",
       "      <td>newsletter</td>\n",
       "      <td>email</td>\n",
       "      <td>desktop</td>\n",
       "    </tr>\n",
       "    <tr>\n",
       "      <th>96</th>\n",
       "      <td>179</td>\n",
       "      <td>s096</td>\n",
       "      <td>2024-03-03 07:48:00</td>\n",
       "      <td>/pricing</td>\n",
       "      <td>125</td>\n",
       "      <td>facebook</td>\n",
       "      <td>organic</td>\n",
       "      <td>desktop</td>\n",
       "    </tr>\n",
       "    <tr>\n",
       "      <th>97</th>\n",
       "      <td>181</td>\n",
       "      <td>s097</td>\n",
       "      <td>2024-03-01 03:04:00</td>\n",
       "      <td>/contact</td>\n",
       "      <td>84</td>\n",
       "      <td>google</td>\n",
       "      <td>organic</td>\n",
       "      <td>mobile</td>\n",
       "    </tr>\n",
       "    <tr>\n",
       "      <th>98</th>\n",
       "      <td>152</td>\n",
       "      <td>s098</td>\n",
       "      <td>2024-03-05 22:14:00</td>\n",
       "      <td>/pricing</td>\n",
       "      <td>122</td>\n",
       "      <td>newsletter</td>\n",
       "      <td>organic</td>\n",
       "      <td>tablet</td>\n",
       "    </tr>\n",
       "    <tr>\n",
       "      <th>99</th>\n",
       "      <td>123</td>\n",
       "      <td>s099</td>\n",
       "      <td>2024-03-04 17:39:00</td>\n",
       "      <td>/pricing</td>\n",
       "      <td>113</td>\n",
       "      <td>facebook</td>\n",
       "      <td>referral</td>\n",
       "      <td>desktop</td>\n",
       "    </tr>\n",
       "  </tbody>\n",
       "</table>\n",
       "<p>100 rows × 8 columns</p>\n",
       "</div>"
      ],
      "text/plain": [
       "    user_id session_id           timestamp       page  time_spent_sec  \\\n",
       "0       151       s000 2024-03-07 12:55:00   /pricing              54   \n",
       "1       192       s001 2024-03-05 14:21:00   /landing              71   \n",
       "2       114       s002 2024-03-01 14:25:00   /contact             143   \n",
       "3       171       s003 2024-03-06 16:56:00   /contact             293   \n",
       "4       160       s004 2024-03-01 21:41:00   /contact              37   \n",
       "..      ...        ...                 ...        ...             ...   \n",
       "95      184       s095 2024-03-06 03:40:00  /features             170   \n",
       "96      179       s096 2024-03-03 07:48:00   /pricing             125   \n",
       "97      181       s097 2024-03-01 03:04:00   /contact              84   \n",
       "98      152       s098 2024-03-05 22:14:00   /pricing             122   \n",
       "99      123       s099 2024-03-04 17:39:00   /pricing             113   \n",
       "\n",
       "    utm_source utm_medium device_type  \n",
       "0   newsletter   referral      mobile  \n",
       "1     linkedin      email     desktop  \n",
       "2     facebook        cpc     desktop  \n",
       "3   newsletter      email     desktop  \n",
       "4     linkedin    organic      tablet  \n",
       "..         ...        ...         ...  \n",
       "95  newsletter      email     desktop  \n",
       "96    facebook    organic     desktop  \n",
       "97      google    organic      mobile  \n",
       "98  newsletter    organic      tablet  \n",
       "99    facebook   referral     desktop  \n",
       "\n",
       "[100 rows x 8 columns]"
      ]
     },
     "execution_count": 61,
     "metadata": {},
     "output_type": "execute_result"
    }
   ],
   "source": [
    "# Define a list of columns to trim and lower\n",
    "columns_to_trim = ['page', 'utm_source', 'utm_medium', 'device_type']\n",
    "\n",
    "# Trim and lower the columns\n",
    "web_tracking[columns_to_trim] = web_tracking[columns_to_trim].apply(lambda x: x.str.strip().str.lower())\n",
    "web_tracking"
   ]
  },
  {
   "cell_type": "markdown",
   "id": "e2d04eb3",
   "metadata": {},
   "source": [
    "### To check for Mising values - if the user_id is missing drop the whole Row )"
   ]
  },
  {
   "cell_type": "code",
   "execution_count": 18,
   "id": "983800c2",
   "metadata": {},
   "outputs": [
    {
     "name": "stdout",
     "output_type": "stream",
     "text": [
      "user_id             0\n",
      "session_id          0\n",
      "timestamp           0\n",
      "page                0\n",
      "time_spent_sec      0\n",
      "utm_source          0\n",
      "utm_medium          0\n",
      "device_type         0\n",
      "Unnamed: 8        100\n",
      "dtype: int64\n"
     ]
    }
   ],
   "source": [
    "print(web_tracking.isnull().sum())"
   ]
  },
  {
   "cell_type": "code",
   "execution_count": 19,
   "id": "b4429384",
   "metadata": {},
   "outputs": [
    {
     "name": "stdout",
     "output_type": "stream",
     "text": [
      "user_id         0\n",
      "lead_status     0\n",
      "company         0\n",
      "sign_up_date    0\n",
      "industry        0\n",
      "country         0\n",
      "dtype: int64\n"
     ]
    }
   ],
   "source": [
    "print(crm_data.isnull().sum())"
   ]
  },
  {
   "cell_type": "code",
   "execution_count": null,
   "id": "5ff16263",
   "metadata": {},
   "outputs": [
    {
     "data": {
      "text/html": [
       "<div>\n",
       "<style scoped>\n",
       "    .dataframe tbody tr th:only-of-type {\n",
       "        vertical-align: middle;\n",
       "    }\n",
       "\n",
       "    .dataframe tbody tr th {\n",
       "        vertical-align: top;\n",
       "    }\n",
       "\n",
       "    .dataframe thead th {\n",
       "        text-align: right;\n",
       "    }\n",
       "</style>\n",
       "<table border=\"1\" class=\"dataframe\">\n",
       "  <thead>\n",
       "    <tr style=\"text-align: right;\">\n",
       "      <th></th>\n",
       "      <th>utm_source</th>\n",
       "      <th>unique_users</th>\n",
       "    </tr>\n",
       "  </thead>\n",
       "  <tbody>\n",
       "    <tr>\n",
       "      <th>0</th>\n",
       "      <td>facebook</td>\n",
       "      <td>17</td>\n",
       "    </tr>\n",
       "    <tr>\n",
       "      <th>1</th>\n",
       "      <td>google</td>\n",
       "      <td>25</td>\n",
       "    </tr>\n",
       "    <tr>\n",
       "      <th>2</th>\n",
       "      <td>linkedin</td>\n",
       "      <td>17</td>\n",
       "    </tr>\n",
       "    <tr>\n",
       "      <th>3</th>\n",
       "      <td>newsletter</td>\n",
       "      <td>26</td>\n",
       "    </tr>\n",
       "  </tbody>\n",
       "</table>\n",
       "</div>"
      ],
      "text/plain": [
       "   utm_source  unique_users\n",
       "0    facebook            17\n",
       "1      google            25\n",
       "2    linkedin            17\n",
       "3  newsletter            26"
      ]
     },
     "execution_count": 25,
     "metadata": {},
     "output_type": "execute_result"
    }
   ],
   "source": [
    "unique_user_ids = web_tracking.groupby('utm_source')['user_id'].nunique().reset_index()\n",
    "unique_user_ids = unique_user_ids.rename(columns = {'user_id':'unique_users'})\n",
    "\n",
    "\n"
   ]
  },
  {
   "cell_type": "code",
   "execution_count": 79,
   "id": "14acb295",
   "metadata": {},
   "outputs": [
    {
     "data": {
      "text/html": [
       "<div>\n",
       "<style scoped>\n",
       "    .dataframe tbody tr th:only-of-type {\n",
       "        vertical-align: middle;\n",
       "    }\n",
       "\n",
       "    .dataframe tbody tr th {\n",
       "        vertical-align: top;\n",
       "    }\n",
       "\n",
       "    .dataframe thead th {\n",
       "        text-align: right;\n",
       "    }\n",
       "</style>\n",
       "<table border=\"1\" class=\"dataframe\">\n",
       "  <thead>\n",
       "    <tr style=\"text-align: right;\">\n",
       "      <th></th>\n",
       "      <th>utm_source</th>\n",
       "      <th>user_id</th>\n",
       "    </tr>\n",
       "  </thead>\n",
       "  <tbody>\n",
       "    <tr>\n",
       "      <th>0</th>\n",
       "      <td>facebook</td>\n",
       "      <td>17</td>\n",
       "    </tr>\n",
       "    <tr>\n",
       "      <th>1</th>\n",
       "      <td>google</td>\n",
       "      <td>25</td>\n",
       "    </tr>\n",
       "    <tr>\n",
       "      <th>2</th>\n",
       "      <td>linkedin</td>\n",
       "      <td>17</td>\n",
       "    </tr>\n",
       "    <tr>\n",
       "      <th>3</th>\n",
       "      <td>newsletter</td>\n",
       "      <td>26</td>\n",
       "    </tr>\n",
       "  </tbody>\n",
       "</table>\n",
       "</div>"
      ],
      "text/plain": [
       "   utm_source  user_id\n",
       "0    facebook       17\n",
       "1      google       25\n",
       "2    linkedin       17\n",
       "3  newsletter       26"
      ]
     },
     "execution_count": 79,
     "metadata": {},
     "output_type": "execute_result"
    }
   ],
   "source": [
    "unique_user_ids"
   ]
  },
  {
   "cell_type": "code",
   "execution_count": 86,
   "id": "6d0c1f10",
   "metadata": {},
   "outputs": [
    {
     "data": {
      "image/png": "[encoded data removed]",
      "text/plain": [
       "<Figure size 1000x600 with 1 Axes>"
      ]
     },
     "metadata": {},
     "output_type": "display_data"
    }
   ],
   "source": [
    "\n",
    "plt.figure(figsize=(10, 6))\n",
    "sns.barplot(x='utm_source', y='user_id', data=unique_user_ids)\n",
    "plt.xlabel('utm_sources')\n",
    "plt.ylabel('Total Time Spent (seconds)')\n",
    "plt.title('Number of Unique users by utm_sources')\n",
    "plt.xticks(rotation=45)\n",
    "# plt.grid()\n",
    "plt.tight_layout()\n",
    "plt.show()"
   ]
  },
  {
   "cell_type": "markdown",
   "id": "40e95e2a",
   "metadata": {},
   "source": [
    "#### Sql :- \n"
   ]
  },
  {
   "cell_type": "markdown",
   "id": "55704bf2",
   "metadata": {},
   "source": [
    "\n",
    "SELECT utm_source, COUNT(DISTINCT user_id) as unique_user_ids\n",
    "FROM web_tracking\n",
    "GROUP BY utm_source;"
   ]
  },
  {
   "cell_type": "markdown",
   "id": "774cf547",
   "metadata": {},
   "source": [
    "\n",
    "SELECT utm_source, COUNT(DISTINCT user_id) as unique_user_ids\n",
    "FROM web_tracking\n",
    "GROUP BY utm_source;"
   ]
  },
  {
   "cell_type": "code",
   "execution_count": 71,
   "id": "4ccf234a",
   "metadata": {},
   "outputs": [],
   "source": [
    "# # Sql :- \n",
    "# SELECT utm_source, COUNT(DISTINCT user_id) as unique_user_ids\n",
    "# FROM web_tracking\n",
    "# GROUP BY utm_source;"
   ]
  },
  {
   "cell_type": "markdown",
   "id": "0990d99f",
   "metadata": {},
   "source": [
    "### Total Time spent by users based on UTM Sources"
   ]
  },
  {
   "cell_type": "markdown",
   "id": "90262391",
   "metadata": {},
   "source": [
    "SELECT utm_source, Sum(time_spent_sec) as total_time_spent\n",
    "FROM web_tracking\n",
    "GROUP BY utm_sources"
   ]
  },
  {
   "cell_type": "code",
   "execution_count": 70,
   "id": "36f30fdb",
   "metadata": {},
   "outputs": [],
   "source": [
    "# SELECT utm_source, Sum(time_spent_sec) as total_time_spent\n",
    "# FROM web_tracking\n",
    "# GROUP BY utm_sources"
   ]
  },
  {
   "cell_type": "code",
   "execution_count": 26,
   "id": "05b73143",
   "metadata": {},
   "outputs": [
    {
     "data": {
      "text/html": [
       "<div>\n",
       "<style scoped>\n",
       "    .dataframe tbody tr th:only-of-type {\n",
       "        vertical-align: middle;\n",
       "    }\n",
       "\n",
       "    .dataframe tbody tr th {\n",
       "        vertical-align: top;\n",
       "    }\n",
       "\n",
       "    .dataframe thead th {\n",
       "        text-align: right;\n",
       "    }\n",
       "</style>\n",
       "<table border=\"1\" class=\"dataframe\">\n",
       "  <thead>\n",
       "    <tr style=\"text-align: right;\">\n",
       "      <th></th>\n",
       "      <th>user_id</th>\n",
       "      <th>session_id</th>\n",
       "      <th>timestamp</th>\n",
       "      <th>page</th>\n",
       "      <th>time_spent_sec</th>\n",
       "      <th>utm_source</th>\n",
       "      <th>utm_medium</th>\n",
       "      <th>device_type</th>\n",
       "      <th>Unnamed: 8</th>\n",
       "    </tr>\n",
       "  </thead>\n",
       "  <tbody>\n",
       "    <tr>\n",
       "      <th>0</th>\n",
       "      <td>151</td>\n",
       "      <td>s000</td>\n",
       "      <td>2024-07-03 12:55:00</td>\n",
       "      <td>/pricing</td>\n",
       "      <td>54</td>\n",
       "      <td>newsletter</td>\n",
       "      <td>referral</td>\n",
       "      <td>mobile</td>\n",
       "      <td>NaN</td>\n",
       "    </tr>\n",
       "    <tr>\n",
       "      <th>1</th>\n",
       "      <td>192</td>\n",
       "      <td>s001</td>\n",
       "      <td>2024-05-03 14:21:00</td>\n",
       "      <td>/landing</td>\n",
       "      <td>71</td>\n",
       "      <td>linkedin</td>\n",
       "      <td>email</td>\n",
       "      <td>desktop</td>\n",
       "      <td>NaN</td>\n",
       "    </tr>\n",
       "    <tr>\n",
       "      <th>2</th>\n",
       "      <td>114</td>\n",
       "      <td>s002</td>\n",
       "      <td>2024-01-03 14:25:00</td>\n",
       "      <td>/contact</td>\n",
       "      <td>143</td>\n",
       "      <td>facebook</td>\n",
       "      <td>cpc</td>\n",
       "      <td>desktop</td>\n",
       "      <td>NaN</td>\n",
       "    </tr>\n",
       "    <tr>\n",
       "      <th>3</th>\n",
       "      <td>171</td>\n",
       "      <td>s003</td>\n",
       "      <td>2024-06-03 16:56:00</td>\n",
       "      <td>/contact</td>\n",
       "      <td>293</td>\n",
       "      <td>newsletter</td>\n",
       "      <td>email</td>\n",
       "      <td>desktop</td>\n",
       "      <td>NaN</td>\n",
       "    </tr>\n",
       "    <tr>\n",
       "      <th>4</th>\n",
       "      <td>160</td>\n",
       "      <td>s004</td>\n",
       "      <td>2024-01-03 21:41:00</td>\n",
       "      <td>/contact</td>\n",
       "      <td>37</td>\n",
       "      <td>linkedin</td>\n",
       "      <td>organic</td>\n",
       "      <td>tablet</td>\n",
       "      <td>NaN</td>\n",
       "    </tr>\n",
       "    <tr>\n",
       "      <th>...</th>\n",
       "      <td>...</td>\n",
       "      <td>...</td>\n",
       "      <td>...</td>\n",
       "      <td>...</td>\n",
       "      <td>...</td>\n",
       "      <td>...</td>\n",
       "      <td>...</td>\n",
       "      <td>...</td>\n",
       "      <td>...</td>\n",
       "    </tr>\n",
       "    <tr>\n",
       "      <th>95</th>\n",
       "      <td>184</td>\n",
       "      <td>s095</td>\n",
       "      <td>2024-06-03 03:40:00</td>\n",
       "      <td>/features</td>\n",
       "      <td>170</td>\n",
       "      <td>newsletter</td>\n",
       "      <td>email</td>\n",
       "      <td>desktop</td>\n",
       "      <td>NaN</td>\n",
       "    </tr>\n",
       "    <tr>\n",
       "      <th>96</th>\n",
       "      <td>179</td>\n",
       "      <td>s096</td>\n",
       "      <td>2024-03-03 07:48:00</td>\n",
       "      <td>/pricing</td>\n",
       "      <td>125</td>\n",
       "      <td>facebook</td>\n",
       "      <td>organic</td>\n",
       "      <td>desktop</td>\n",
       "      <td>NaN</td>\n",
       "    </tr>\n",
       "    <tr>\n",
       "      <th>97</th>\n",
       "      <td>181</td>\n",
       "      <td>s097</td>\n",
       "      <td>2024-01-03 03:04:00</td>\n",
       "      <td>/contact</td>\n",
       "      <td>84</td>\n",
       "      <td>google</td>\n",
       "      <td>organic</td>\n",
       "      <td>mobile</td>\n",
       "      <td>NaN</td>\n",
       "    </tr>\n",
       "    <tr>\n",
       "      <th>98</th>\n",
       "      <td>152</td>\n",
       "      <td>s098</td>\n",
       "      <td>2024-05-03 22:14:00</td>\n",
       "      <td>/pricing</td>\n",
       "      <td>122</td>\n",
       "      <td>newsletter</td>\n",
       "      <td>organic</td>\n",
       "      <td>tablet</td>\n",
       "      <td>NaN</td>\n",
       "    </tr>\n",
       "    <tr>\n",
       "      <th>99</th>\n",
       "      <td>123</td>\n",
       "      <td>s099</td>\n",
       "      <td>2024-04-03 17:39:00</td>\n",
       "      <td>/pricing</td>\n",
       "      <td>113</td>\n",
       "      <td>facebook</td>\n",
       "      <td>referral</td>\n",
       "      <td>desktop</td>\n",
       "      <td>NaN</td>\n",
       "    </tr>\n",
       "  </tbody>\n",
       "</table>\n",
       "<p>100 rows × 9 columns</p>\n",
       "</div>"
      ],
      "text/plain": [
       "    user_id session_id           timestamp       page  time_spent_sec  \\\n",
       "0       151       s000 2024-07-03 12:55:00   /pricing              54   \n",
       "1       192       s001 2024-05-03 14:21:00   /landing              71   \n",
       "2       114       s002 2024-01-03 14:25:00   /contact             143   \n",
       "3       171       s003 2024-06-03 16:56:00   /contact             293   \n",
       "4       160       s004 2024-01-03 21:41:00   /contact              37   \n",
       "..      ...        ...                 ...        ...             ...   \n",
       "95      184       s095 2024-06-03 03:40:00  /features             170   \n",
       "96      179       s096 2024-03-03 07:48:00   /pricing             125   \n",
       "97      181       s097 2024-01-03 03:04:00   /contact              84   \n",
       "98      152       s098 2024-05-03 22:14:00   /pricing             122   \n",
       "99      123       s099 2024-04-03 17:39:00   /pricing             113   \n",
       "\n",
       "    utm_source utm_medium device_type  Unnamed: 8  \n",
       "0   newsletter   referral      mobile         NaN  \n",
       "1     linkedin      email     desktop         NaN  \n",
       "2     facebook        cpc     desktop         NaN  \n",
       "3   newsletter      email     desktop         NaN  \n",
       "4     linkedin    organic      tablet         NaN  \n",
       "..         ...        ...         ...         ...  \n",
       "95  newsletter      email     desktop         NaN  \n",
       "96    facebook    organic     desktop         NaN  \n",
       "97      google    organic      mobile         NaN  \n",
       "98  newsletter    organic      tablet         NaN  \n",
       "99    facebook   referral     desktop         NaN  \n",
       "\n",
       "[100 rows x 9 columns]"
      ]
     },
     "execution_count": 26,
     "metadata": {},
     "output_type": "execute_result"
    }
   ],
   "source": [
    "web_tracking"
   ]
  },
  {
   "cell_type": "code",
   "execution_count": 33,
   "id": "2edf358e",
   "metadata": {},
   "outputs": [
    {
     "data": {
      "text/html": [
       "<div>\n",
       "<style scoped>\n",
       "    .dataframe tbody tr th:only-of-type {\n",
       "        vertical-align: middle;\n",
       "    }\n",
       "\n",
       "    .dataframe tbody tr th {\n",
       "        vertical-align: top;\n",
       "    }\n",
       "\n",
       "    .dataframe thead th {\n",
       "        text-align: right;\n",
       "    }\n",
       "</style>\n",
       "<table border=\"1\" class=\"dataframe\">\n",
       "  <thead>\n",
       "    <tr style=\"text-align: right;\">\n",
       "      <th></th>\n",
       "      <th>utm_source</th>\n",
       "      <th>time_spent_sec</th>\n",
       "    </tr>\n",
       "  </thead>\n",
       "  <tbody>\n",
       "    <tr>\n",
       "      <th>0</th>\n",
       "      <td>facebook</td>\n",
       "      <td>3383</td>\n",
       "    </tr>\n",
       "    <tr>\n",
       "      <th>1</th>\n",
       "      <td>google</td>\n",
       "      <td>4192</td>\n",
       "    </tr>\n",
       "    <tr>\n",
       "      <th>2</th>\n",
       "      <td>linkedin</td>\n",
       "      <td>3762</td>\n",
       "    </tr>\n",
       "    <tr>\n",
       "      <th>3</th>\n",
       "      <td>newsletter</td>\n",
       "      <td>5038</td>\n",
       "    </tr>\n",
       "  </tbody>\n",
       "</table>\n",
       "</div>"
      ],
      "text/plain": [
       "   utm_source  time_spent_sec\n",
       "0    facebook            3383\n",
       "1      google            4192\n",
       "2    linkedin            3762\n",
       "3  newsletter            5038"
      ]
     },
     "execution_count": 33,
     "metadata": {},
     "output_type": "execute_result"
    }
   ],
   "source": [
    "import matplotlib.pyplot as plt\n",
    "# Calculate the total time spent on the website\n",
    "total_time_spent = web_tracking.groupby('utm_source')['time_spent_sec'].sum().reset_index()\n",
    "total_time_spent\n"
   ]
  },
  {
   "cell_type": "code",
   "execution_count": 36,
   "id": "7e4fe384",
   "metadata": {},
   "outputs": [
    {
     "data": {
      "image/png": "[encoded data removed]",
      "text/plain": [
       "<Figure size 1000x600 with 1 Axes>"
      ]
     },
     "metadata": {},
     "output_type": "display_data"
    }
   ],
   "source": [
    "\n",
    "# Create a bar graph\n",
    "\n",
    "plt.figure(figsize=(10, 6))\n",
    "sns.barplot(x='utm_source', y='time_spent_sec', data=total_time_spent)\n",
    "plt.xlabel('utm_sources')\n",
    "plt.ylabel('Total Time Spent (seconds)')\n",
    "plt.title('Total Time Spent on Website by utm_sources')\n",
    "plt.xticks(rotation=45)\n",
    "# plt.grid()\n",
    "plt.tight_layout()\n",
    "plt.show()\n",
    "# # Format the result as hours, minutes, and seconds\n",
    "# hours = total_time_spent // 3600\n",
    "# minutes = (total_time_spent % 3600) // 60\n",
    "# seconds = total_time_spent % 60\n",
    "\n",
    "# print(\"Total time spent on the website: {} hours, {} minutes, {} seconds\".format(hours, minutes, seconds))\n"
   ]
  },
  {
   "cell_type": "code",
   "execution_count": 68,
   "id": "af7eded6",
   "metadata": {},
   "outputs": [
    {
     "name": "stdout",
     "output_type": "stream",
     "text": [
      "utm_source = \"newsletter\" is the Top performing UTM_SOURCE w.r.t total_time spent\n"
     ]
    }
   ],
   "source": [
    "print(\"utm_source = \\\"newsletter\\\" is the Top performing UTM_SOURCE w.r.t total_time spent\")"
   ]
  },
  {
   "cell_type": "code",
   "execution_count": 74,
   "id": "d1aae174",
   "metadata": {},
   "outputs": [
    {
     "name": "stdout",
     "output_type": "stream",
     "text": [
      "user_id                    int64\n",
      "session_id                object\n",
      "timestamp         datetime64[ns]\n",
      "page                      object\n",
      "time_spent_sec             int64\n",
      "utm_source                object\n",
      "utm_medium                object\n",
      "device_type               object\n",
      "dtype: object\n",
      "user_id          int64\n",
      "lead_status     object\n",
      "company         object\n",
      "sign_up_date    object\n",
      "industry        object\n",
      "country         object\n",
      "dtype: object\n"
     ]
    }
   ],
   "source": [
    "print(web_tracking.dtypes)\n",
    "print(crm_data.dtypes)\n"
   ]
  },
  {
   "cell_type": "markdown",
   "id": "6c6c602b",
   "metadata": {},
   "source": [
    "#### Checking if both the columns dont have any inconsistencies as we will be merging them based on these columns"
   ]
  },
  {
   "cell_type": "code",
   "execution_count": 76,
   "id": "67c5a457",
   "metadata": {},
   "outputs": [
    {
     "name": "stdout",
     "output_type": "stream",
     "text": [
      "61\n",
      "47\n",
      "Means some data is missing from crm_data\n"
     ]
    }
   ],
   "source": [
    "print(web_tracking['user_id'].nunique())\n",
    "print(crm_data['user_id'].nunique())\n",
    "print(\"Means some data is missing from crm_data\")\n"
   ]
  },
  {
   "cell_type": "markdown",
   "id": "a782562b",
   "metadata": {},
   "source": [
    "## Top perorming UTM_SOURCE by Conversion rate"
   ]
  },
  {
   "cell_type": "markdown",
   "id": "a026f4d4",
   "metadata": {},
   "source": [
    "SELECT \n",
    "  utm_source,\n",
    "  (COUNT(CASE WHEN crm.lead_status = 'confirmed' THEN 1 END) / COUNT(*)) * 100 AS conversion_rate\n",
    "FROM web_scraping ws\n",
    "LEFT JOIN crm_data crm\n",
    "ON ws.user_id = crm.user_id;\n"
   ]
  },
  {
   "cell_type": "code",
   "execution_count": 48,
   "id": "fae5169e",
   "metadata": {},
   "outputs": [],
   "source": [
    "\n",
    "# Merge the CRM and web tracking data on user_id\n",
    "merged_data = pd.merge(web_tracking, crm_data, on=\"user_id\", how=\"inner\")\n",
    "\n",
    "# Calculate conversion rate per UTM source\n",
    "utm_conversion = merged_data.groupby('utm_source').agg(\n",
    "    total_users=('user_id', 'nunique'),\n",
    "    converted_users=('lead_status', lambda x: (x == 'converted').sum())\n",
    ").reset_index()\n",
    "\n",
    "# Add conversion rate column\n",
    "utm_conversion['conversion_rate'] = (utm_conversion['converted_users'] / utm_conversion['total_users']) * 100\n",
    "\n",
    "# Identify the top-performing UTM source based on conversion rate\n",
    "top_utm_source = utm_conversion.sort_values(by='conversion_rate', ascending=False).iloc[0]\n"
   ]
  },
  {
   "cell_type": "code",
   "execution_count": 49,
   "id": "ebef0190",
   "metadata": {},
   "outputs": [
    {
     "name": "stdout",
     "output_type": "stream",
     "text": [
      "\n",
      "Top Performing UTM Source:\n"
     ]
    },
    {
     "data": {
      "text/plain": [
       "utm_source            google\n",
       "total_users               19\n",
       "converted_users           15\n",
       "conversion_rate    78.947368\n",
       "Name: 1, dtype: object"
      ]
     },
     "execution_count": 49,
     "metadata": {},
     "output_type": "execute_result"
    }
   ],
   "source": [
    "print(\"\\nTop Performing UTM Source:\")\n",
    "top_utm_source"
   ]
  },
  {
   "cell_type": "code",
   "execution_count": 50,
   "id": "b0672aa4",
   "metadata": {},
   "outputs": [
    {
     "name": "stdout",
     "output_type": "stream",
     "text": [
      "Conversion Rates for All UTM Sources:\n"
     ]
    },
    {
     "data": {
      "text/html": [
       "<div>\n",
       "<style scoped>\n",
       "    .dataframe tbody tr th:only-of-type {\n",
       "        vertical-align: middle;\n",
       "    }\n",
       "\n",
       "    .dataframe tbody tr th {\n",
       "        vertical-align: top;\n",
       "    }\n",
       "\n",
       "    .dataframe thead th {\n",
       "        text-align: right;\n",
       "    }\n",
       "</style>\n",
       "<table border=\"1\" class=\"dataframe\">\n",
       "  <thead>\n",
       "    <tr style=\"text-align: right;\">\n",
       "      <th></th>\n",
       "      <th>utm_source</th>\n",
       "      <th>total_users</th>\n",
       "      <th>converted_users</th>\n",
       "      <th>conversion_rate</th>\n",
       "    </tr>\n",
       "  </thead>\n",
       "  <tbody>\n",
       "    <tr>\n",
       "      <th>0</th>\n",
       "      <td>facebook</td>\n",
       "      <td>14</td>\n",
       "      <td>11</td>\n",
       "      <td>78.571429</td>\n",
       "    </tr>\n",
       "    <tr>\n",
       "      <th>1</th>\n",
       "      <td>google</td>\n",
       "      <td>19</td>\n",
       "      <td>15</td>\n",
       "      <td>78.947368</td>\n",
       "    </tr>\n",
       "    <tr>\n",
       "      <th>2</th>\n",
       "      <td>linkedin</td>\n",
       "      <td>14</td>\n",
       "      <td>11</td>\n",
       "      <td>78.571429</td>\n",
       "    </tr>\n",
       "    <tr>\n",
       "      <th>3</th>\n",
       "      <td>newsletter</td>\n",
       "      <td>20</td>\n",
       "      <td>12</td>\n",
       "      <td>60.000000</td>\n",
       "    </tr>\n",
       "  </tbody>\n",
       "</table>\n",
       "</div>"
      ],
      "text/plain": [
       "   utm_source  total_users  converted_users  conversion_rate\n",
       "0    facebook           14               11        78.571429\n",
       "1      google           19               15        78.947368\n",
       "2    linkedin           14               11        78.571429\n",
       "3  newsletter           20               12        60.000000"
      ]
     },
     "execution_count": 50,
     "metadata": {},
     "output_type": "execute_result"
    }
   ],
   "source": [
    "\n",
    "# Display results\n",
    "print(\"Conversion Rates for All UTM Sources:\")\n",
    "utm_conversion"
   ]
  },
  {
   "cell_type": "code",
   "execution_count": 84,
   "id": "84cd6194",
   "metadata": {},
   "outputs": [
    {
     "data": {
      "image/png": "[encoded data removed]",
      "text/plain": [
       "<Figure size 1000x600 with 1 Axes>"
      ]
     },
     "metadata": {},
     "output_type": "display_data"
    }
   ],
   "source": [
    "# Plotting\n",
    "plt.figure(figsize=(10, 6))\n",
    "\n",
    "# Line plots\n",
    "plt.plot(utm_conversion[\"utm_source\"], utm_conversion[\"total_users\"], label=\"Total Users\", marker=\"o\")\n",
    "plt.plot(utm_conversion[\"utm_source\"], utm_conversion[\"converted_users\"], label=\"Converted Users\", marker=\"o\")\n",
    "plt.plot(utm_conversion[\"utm_source\"], utm_conversion[\"conversion_rate\"], label=\"Conversion Rate (%)\", marker=\"o\")\n",
    "\n",
    "# Adding labels and title\n",
    "plt.title(\"User Metrics by UTM Source\")\n",
    "plt.xlabel(\"UTM Source\")\n",
    "plt.ylabel(\"Values\")\n",
    "plt.legend()\n",
    "plt.grid(True, linestyle=\"--\", alpha=0.7)\n",
    "\n",
    "# Show plot\n",
    "plt.show()"
   ]
  },
  {
   "cell_type": "code",
   "execution_count": 46,
   "id": "16e3f2d5",
   "metadata": {},
   "outputs": [
    {
     "data": {
      "text/html": [
       "<div>\n",
       "<style scoped>\n",
       "    .dataframe tbody tr th:only-of-type {\n",
       "        vertical-align: middle;\n",
       "    }\n",
       "\n",
       "    .dataframe tbody tr th {\n",
       "        vertical-align: top;\n",
       "    }\n",
       "\n",
       "    .dataframe thead th {\n",
       "        text-align: right;\n",
       "    }\n",
       "</style>\n",
       "<table border=\"1\" class=\"dataframe\">\n",
       "  <thead>\n",
       "    <tr style=\"text-align: right;\">\n",
       "      <th></th>\n",
       "      <th>user_id</th>\n",
       "      <th>lead_status</th>\n",
       "      <th>company</th>\n",
       "      <th>sign_up_date</th>\n",
       "      <th>industry</th>\n",
       "      <th>country</th>\n",
       "    </tr>\n",
       "  </thead>\n",
       "  <tbody>\n",
       "    <tr>\n",
       "      <th>0</th>\n",
       "      <td>137</td>\n",
       "      <td>converted</td>\n",
       "      <td>company_0</td>\n",
       "      <td>09-03-2024</td>\n",
       "      <td>healthcare</td>\n",
       "      <td>us</td>\n",
       "    </tr>\n",
       "    <tr>\n",
       "      <th>1</th>\n",
       "      <td>163</td>\n",
       "      <td>converted</td>\n",
       "      <td>company_1</td>\n",
       "      <td>01-03-2024</td>\n",
       "      <td>finance</td>\n",
       "      <td>uk</td>\n",
       "    </tr>\n",
       "    <tr>\n",
       "      <th>2</th>\n",
       "      <td>103</td>\n",
       "      <td>prospect</td>\n",
       "      <td>company_2</td>\n",
       "      <td>02-03-2024</td>\n",
       "      <td>healthcare</td>\n",
       "      <td>france</td>\n",
       "    </tr>\n",
       "    <tr>\n",
       "      <th>3</th>\n",
       "      <td>163</td>\n",
       "      <td>lost</td>\n",
       "      <td>company_3</td>\n",
       "      <td>01-03-2024</td>\n",
       "      <td>saas</td>\n",
       "      <td>us</td>\n",
       "    </tr>\n",
       "    <tr>\n",
       "      <th>4</th>\n",
       "      <td>171</td>\n",
       "      <td>lost</td>\n",
       "      <td>company_4</td>\n",
       "      <td>07-03-2024</td>\n",
       "      <td>healthcare</td>\n",
       "      <td>germany</td>\n",
       "    </tr>\n",
       "  </tbody>\n",
       "</table>\n",
       "</div>"
      ],
      "text/plain": [
       "   user_id lead_status    company sign_up_date    industry  country\n",
       "0      137   converted  company_0   09-03-2024  healthcare       us\n",
       "1      163   converted  company_1   01-03-2024     finance       uk\n",
       "2      103    prospect  company_2   02-03-2024  healthcare   france\n",
       "3      163        lost  company_3   01-03-2024        saas       us\n",
       "4      171        lost  company_4   07-03-2024  healthcare  germany"
      ]
     },
     "execution_count": 46,
     "metadata": {},
     "output_type": "execute_result"
    }
   ],
   "source": [
    "crm_data.head()"
   ]
  },
  {
   "cell_type": "code",
   "execution_count": 47,
   "id": "f3fc0965",
   "metadata": {},
   "outputs": [
    {
     "data": {
      "text/html": [
       "<div>\n",
       "<style scoped>\n",
       "    .dataframe tbody tr th:only-of-type {\n",
       "        vertical-align: middle;\n",
       "    }\n",
       "\n",
       "    .dataframe tbody tr th {\n",
       "        vertical-align: top;\n",
       "    }\n",
       "\n",
       "    .dataframe thead th {\n",
       "        text-align: right;\n",
       "    }\n",
       "</style>\n",
       "<table border=\"1\" class=\"dataframe\">\n",
       "  <thead>\n",
       "    <tr style=\"text-align: right;\">\n",
       "      <th></th>\n",
       "      <th>user_id</th>\n",
       "      <th>session_id</th>\n",
       "      <th>timestamp</th>\n",
       "      <th>page</th>\n",
       "      <th>time_spent_sec</th>\n",
       "      <th>utm_source</th>\n",
       "      <th>utm_medium</th>\n",
       "      <th>device_type</th>\n",
       "      <th>Unnamed: 8</th>\n",
       "    </tr>\n",
       "  </thead>\n",
       "  <tbody>\n",
       "    <tr>\n",
       "      <th>0</th>\n",
       "      <td>151</td>\n",
       "      <td>s000</td>\n",
       "      <td>2024-07-03 12:55:00</td>\n",
       "      <td>/pricing</td>\n",
       "      <td>54</td>\n",
       "      <td>newsletter</td>\n",
       "      <td>referral</td>\n",
       "      <td>mobile</td>\n",
       "      <td>NaN</td>\n",
       "    </tr>\n",
       "    <tr>\n",
       "      <th>1</th>\n",
       "      <td>192</td>\n",
       "      <td>s001</td>\n",
       "      <td>2024-05-03 14:21:00</td>\n",
       "      <td>/landing</td>\n",
       "      <td>71</td>\n",
       "      <td>linkedin</td>\n",
       "      <td>email</td>\n",
       "      <td>desktop</td>\n",
       "      <td>NaN</td>\n",
       "    </tr>\n",
       "    <tr>\n",
       "      <th>2</th>\n",
       "      <td>114</td>\n",
       "      <td>s002</td>\n",
       "      <td>2024-01-03 14:25:00</td>\n",
       "      <td>/contact</td>\n",
       "      <td>143</td>\n",
       "      <td>facebook</td>\n",
       "      <td>cpc</td>\n",
       "      <td>desktop</td>\n",
       "      <td>NaN</td>\n",
       "    </tr>\n",
       "    <tr>\n",
       "      <th>3</th>\n",
       "      <td>171</td>\n",
       "      <td>s003</td>\n",
       "      <td>2024-06-03 16:56:00</td>\n",
       "      <td>/contact</td>\n",
       "      <td>293</td>\n",
       "      <td>newsletter</td>\n",
       "      <td>email</td>\n",
       "      <td>desktop</td>\n",
       "      <td>NaN</td>\n",
       "    </tr>\n",
       "    <tr>\n",
       "      <th>4</th>\n",
       "      <td>160</td>\n",
       "      <td>s004</td>\n",
       "      <td>2024-01-03 21:41:00</td>\n",
       "      <td>/contact</td>\n",
       "      <td>37</td>\n",
       "      <td>linkedin</td>\n",
       "      <td>organic</td>\n",
       "      <td>tablet</td>\n",
       "      <td>NaN</td>\n",
       "    </tr>\n",
       "  </tbody>\n",
       "</table>\n",
       "</div>"
      ],
      "text/plain": [
       "   user_id session_id           timestamp      page  time_spent_sec  \\\n",
       "0      151       s000 2024-07-03 12:55:00  /pricing              54   \n",
       "1      192       s001 2024-05-03 14:21:00  /landing              71   \n",
       "2      114       s002 2024-01-03 14:25:00  /contact             143   \n",
       "3      171       s003 2024-06-03 16:56:00  /contact             293   \n",
       "4      160       s004 2024-01-03 21:41:00  /contact              37   \n",
       "\n",
       "   utm_source utm_medium device_type  Unnamed: 8  \n",
       "0  newsletter   referral      mobile         NaN  \n",
       "1    linkedin      email     desktop         NaN  \n",
       "2    facebook        cpc     desktop         NaN  \n",
       "3  newsletter      email     desktop         NaN  \n",
       "4    linkedin    organic      tablet         NaN  "
      ]
     },
     "execution_count": 47,
     "metadata": {},
     "output_type": "execute_result"
    }
   ],
   "source": [
    "web_tracking.head()"
   ]
  },
  {
   "cell_type": "code",
   "execution_count": 68,
   "id": "dedb97e7",
   "metadata": {},
   "outputs": [
    {
     "data": {
      "text/plain": [
       "np.int64(295)"
      ]
     },
     "execution_count": 68,
     "metadata": {},
     "output_type": "execute_result"
    }
   ],
   "source": [
    "web_tracking['time_spent_sec'].max()"
   ]
  },
  {
   "cell_type": "code",
   "execution_count": 72,
   "id": "bc9262c9",
   "metadata": {},
   "outputs": [],
   "source": [
    "# Adjusting the labels to match the bins\n",
    "time_bins = [0, 50, 100, 200, 300]\n",
    "time_labels = ['0-50', '50-100', '100-200', '200-300']\n",
    "\n",
    "# Recreating the time_bin column\n",
    "web_tracking['time_bin'] = pd.cut(web_tracking['time_spent_sec'], bins=time_bins, labels=time_labels)\n"
   ]
  },
  {
   "cell_type": "code",
   "execution_count": 73,
   "id": "54122ec8",
   "metadata": {},
   "outputs": [
    {
     "name": "stderr",
     "output_type": "stream",
     "text": [
      "C:\\Users\\GuptaSub\\AppData\\Local\\Temp\\ipykernel_29180\\3900731794.py:2: FutureWarning: The default of observed=False is deprecated and will be changed to True in a future version of pandas. Pass observed=False to retain current behavior or observed=True to adopt the future default and silence this warning.\n",
      "  conversion_counts = web_tracking.groupby('time_bin').size()\n"
     ]
    },
    {
     "data": {
      "image/png": "[encoded data removed]",
      "text/plain": [
       "<Figure size 1000x600 with 1 Axes>"
      ]
     },
     "metadata": {},
     "output_type": "display_data"
    },
    {
     "data": {
      "text/plain": [
       "array([ 6, 10, 51, 33])"
      ]
     },
     "execution_count": 73,
     "metadata": {},
     "output_type": "execute_result"
    }
   ],
   "source": [
    "\n",
    "# Counting the number of conversions in each bin\n",
    "conversion_counts = web_tracking.groupby('time_bin').size()\n",
    "\n",
    "# Plotting the line chart\n",
    "plt.figure(figsize=(10, 6))\n",
    "plt.plot(conversion_counts.index.astype(str), conversion_counts.values, marker='o', color='blue', label='Conversions')\n",
    "\n",
    "# Customizing the chart\n",
    "plt.xlabel('Time Spent (seconds) Bins')\n",
    "plt.ylabel('Number of Conversions')\n",
    "plt.title('Number of Conversions Based on Time Spent')\n",
    "plt.grid(True, linestyle='--', alpha=0.7)\n",
    "plt.legend()\n",
    "plt.tight_layout()\n",
    "plt.show()\n",
    "\n",
    "conversion_counts.values\n"
   ]
  },
  {
   "cell_type": "markdown",
   "id": "e0ba03c4",
   "metadata": {},
   "source": [
    "## 6. Insights and Recommendations\n",
    "#### After performing the analysis:\n",
    "\n",
    "#### Google has the highest conversion rate at 48.39%, making it the most effective campaign.\n",
    "\n",
    "#### Newsletter drives the highest number of unique users and total time spent.\n",
    "\n",
    "#### Optimization Opportunities:\n",
    "\n",
    "#### Improve engagement on Facebook and LinkedIn to boost conversion rates.\n",
    "\n",
    "#### Allocate more resources to Google campaigns to maximize ROI."
   ]
  },
  {
   "cell_type": "markdown",
   "id": "b83dbdad",
   "metadata": {},
   "source": [
    "#### Predictive Analysis "
   ]
  },
  {
   "cell_type": "code",
   "execution_count": null,
   "id": "4bf1a533",
   "metadata": {},
   "outputs": [],
   "source": []
  },
  {
   "cell_type": "code",
   "execution_count": null,
   "id": "132d4396",
   "metadata": {},
   "outputs": [],
   "source": []
  }
 ],
 "metadata": {
  "kernelspec": {
   "display_name": "myenv",
   "language": "python",
   "name": "python3"
  },
  "language_info": {
   "codemirror_mode": {
    "name": "ipython",
    "version": 3
   },
   "file_extension": ".py",
   "mimetype": "text/x-python",
   "name": "python",
   "nbconvert_exporter": "python",
   "pygments_lexer": "ipython3",
   "version": "3.12.4"
  }
 },
 "nbformat": 4,
 "nbformat_minor": 5
}
